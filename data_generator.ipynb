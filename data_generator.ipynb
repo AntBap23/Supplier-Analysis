{
  "nbformat": 4,
  "nbformat_minor": 0,
  "metadata": {
    "colab": {
      "provenance": [],
      "authorship_tag": "ABX9TyPB7rufzggZryxbFXv9nmSL"
    },
    "kernelspec": {
      "name": "python3",
      "display_name": "Python 3"
    },
    "language_info": {
      "name": "python"
    }
  },
  "cells": [
    {
      "cell_type": "code",
      "execution_count": 1,
      "metadata": {
        "collapsed": true,
        "id": "lsjfvgf00EAF"
      },
      "outputs": [],
      "source": [
        "import pandas as pd\n",
        "import numpy as np\n",
        "import random\n",
        "from google.colab import files\n",
        "\n",
        "\n",
        "# Define the number of suppliers and products\n",
        "num_suppliers = 15\n",
        "num_products = 40\n",
        "num_rows = 500\n",
        "\n",
        "# Create random data for the dataset\n",
        "np.random.seed(42)\n",
        "supplier_ids = [f\"SUP{str(i).zfill(3)}\" for i in range(1, num_suppliers + 1)]\n",
        "product_ids = [f\"PROD{str(i).zfill(3)}\" for i in range(1, num_products + 1)]\n",
        "\n",
        "extended_data = {\n",
        "    \"Supplier_ID\": np.random.choice(supplier_ids, num_rows, replace=True),\n",
        "    \"Product_ID\": np.random.choice(product_ids, num_rows, replace=True),\n",
        "    \"Product_Category\": np.random.choice([\"Electronics\", \"Furniture\", \"Clothing\", \"Food\", \"Stationery\"], num_rows),\n",
        "    \"Order_Quantity\": np.random.randint(50, 1000, num_rows),\n",
        "    \"Unit_Cost\": np.round(np.random.uniform(5, 1500, num_rows), 2),\n",
        "    \"Defective_Units\": np.random.randint(0, 50, num_rows),\n",
        "    \"Total_Units_Delivered\": np.random.randint(50, 1000, num_rows),\n",
        "    \"Delivery_Timestamp\": pd.date_range(start=\"2023-01-01\", end=\"2023-12-31\", periods=num_rows).to_pydatetime(),\n",
        "    \"On_Time\": np.random.choice([True, False], num_rows, p=[0.85, 0.15]),\n",
        "    \"Region\": np.random.choice([\"North America\", \"Europe\", \"Asia\", \"South America\", \"Africa\"], num_rows),\n",
        "    \"Year\": np.random.choice([2021, 2022, 2023], num_rows),\n",
        "    \"Supplier_Rating\": np.round(np.random.uniform(1, 5, num_rows), 2),\n",
        "    \"Discount_Applied_Percent\": np.round(np.random.uniform(0, 20, num_rows), 2),\n",
        "    \"Lead_Time_Days\": np.random.randint(1, 40, num_rows),\n",
        "    \"Shipping_Cost\": np.round(np.random.uniform(10, 300, num_rows), 2),\n",
        "    \"Return_Units\": np.random.randint(0, 30, num_rows),\n",
        "    \"Late_Deliveries\": np.random.randint(0, 50, num_rows),\n",
        "    \"Customer_Region\": np.random.choice([\"North America\", \"Europe\", \"Asia\", \"South America\", \"Africa\"], num_rows),\n",
        "    \"Customer_Satisfaction_Score\": np.round(np.random.uniform(1, 5, num_rows), 2),\n",
        "    \"Order_Profit_Margin_Percent\": np.round(np.random.uniform(5, 50, num_rows), 2),\n",
        "    \"Warehouse_Processing_Time_Days\": np.random.randint(1, 15, num_rows),\n",
        "}\n",
        "\n",
        "# Create the DataFrame\n",
        "supplier_data_extended = pd.DataFrame(extended_data)\n",
        "\n",
        "\n"
      ]
    },
    {
      "cell_type": "code",
      "source": [
        "#convert this to a downloadable csv\n",
        "supplier_data_extended.to_csv('supplier_data_extended.csv', index=False)\n",
        "files.download('supplier_data_extended.csv')"
      ],
      "metadata": {
        "colab": {
          "base_uri": "https://localhost:8080/",
          "height": 17
        },
        "id": "-dQA0FEn2LLk",
        "outputId": "71453a39-d899-4c3c-cea0-f04254146630"
      },
      "execution_count": 2,
      "outputs": [
        {
          "output_type": "display_data",
          "data": {
            "text/plain": [
              "<IPython.core.display.Javascript object>"
            ],
            "application/javascript": [
              "\n",
              "    async function download(id, filename, size) {\n",
              "      if (!google.colab.kernel.accessAllowed) {\n",
              "        return;\n",
              "      }\n",
              "      const div = document.createElement('div');\n",
              "      const label = document.createElement('label');\n",
              "      label.textContent = `Downloading \"${filename}\": `;\n",
              "      div.appendChild(label);\n",
              "      const progress = document.createElement('progress');\n",
              "      progress.max = size;\n",
              "      div.appendChild(progress);\n",
              "      document.body.appendChild(div);\n",
              "\n",
              "      const buffers = [];\n",
              "      let downloaded = 0;\n",
              "\n",
              "      const channel = await google.colab.kernel.comms.open(id);\n",
              "      // Send a message to notify the kernel that we're ready.\n",
              "      channel.send({})\n",
              "\n",
              "      for await (const message of channel.messages) {\n",
              "        // Send a message to notify the kernel that we're ready.\n",
              "        channel.send({})\n",
              "        if (message.buffers) {\n",
              "          for (const buffer of message.buffers) {\n",
              "            buffers.push(buffer);\n",
              "            downloaded += buffer.byteLength;\n",
              "            progress.value = downloaded;\n",
              "          }\n",
              "        }\n",
              "      }\n",
              "      const blob = new Blob(buffers, {type: 'application/binary'});\n",
              "      const a = document.createElement('a');\n",
              "      a.href = window.URL.createObjectURL(blob);\n",
              "      a.download = filename;\n",
              "      div.appendChild(a);\n",
              "      a.click();\n",
              "      div.remove();\n",
              "    }\n",
              "  "
            ]
          },
          "metadata": {}
        },
        {
          "output_type": "display_data",
          "data": {
            "text/plain": [
              "<IPython.core.display.Javascript object>"
            ],
            "application/javascript": [
              "download(\"download_a5f0d751-dc07-4d4d-9367-6fee87f879eb\", \"supplier_data_extended.csv\", 68680)"
            ]
          },
          "metadata": {}
        }
      ]
    }
  ]
}